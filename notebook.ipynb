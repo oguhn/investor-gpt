{
 "cells": [
  {
   "cell_type": "code",
   "execution_count": 6,
   "metadata": {},
   "outputs": [],
   "source": [
    "from langchain_openai import ChatOpenAI\n",
    "from langchain_core.prompts import ChatPromptTemplate\n",
    "from langchain.agents import create_tool_calling_agent, AgentExecutor\n",
    "from langchain_core.tools import tool\n",
    "from pydantic import BaseModel, Field\n",
    "import requests\n",
    "import wikipedia\n",
    "from bs4 import BeautifulSoup\n",
    "from duckduckgo_search import DDGS\n",
    "\n",
    "class WikipediaInput(BaseModel):\n",
    "    query: str = Field(..., description=\"The topic to search on Wikipedia\")\n",
    "\n",
    "@tool(args_schema=WikipediaInput)\n",
    "def search_wikipedia(query: str) -> str:\n",
    "    \"\"\"Search for a topic on Wikipedia and return a summary.\"\"\"\n",
    "    try:\n",
    "        return wikipedia.summary(query, sentences=5)\n",
    "    except Exception as e:\n",
    "        return f\"Wikipedia error: {str(e)}\"\n",
    "\n",
    "class DuckDuckGoInput(BaseModel):\n",
    "    query: str = Field(..., description=\"The topic to search using DuckDuckGo\")\n",
    "\n",
    "@tool(args_schema=DuckDuckGoInput)\n",
    "def search_duckduckgo(query: str) -> str:\n",
    "    \"\"\"Search DuckDuckGo and return the top result URL.\"\"\"\n",
    "    with DDGS() as ddgs:\n",
    "        results = list(ddgs.text(query, max_results=1))\n",
    "        if results:\n",
    "            return results[0][\"href\"]\n",
    "        else:\n",
    "            return \"No results found.\"\n",
    "\n",
    "class ScrapeInput(BaseModel):\n",
    "    url: str = Field(..., description=\"The URL of the page to extract content from.\")\n",
    "\n",
    "@tool(args_schema=ScrapeInput)\n",
    "def scrape_website(url: str) -> str:\n",
    "    \"\"\"Extract text content from a given webpage URL.\"\"\"\n",
    "    try:\n",
    "        response = requests.get(url, timeout=10)\n",
    "        soup = BeautifulSoup(response.text, \"html.parser\")\n",
    "        return soup.get_text(separator=\"\\n\")[:1000]\n",
    "    except Exception as e:\n",
    "        return f\"Scraping error: {str(e)}\"\n",
    "\n",
    "class SaveInput(BaseModel):\n",
    "    text: str = Field(..., description=\"The research text to save to file.\")\n",
    "\n",
    "@tool(args_schema=SaveInput)\n",
    "def save_to_file(text: str) -> str:\n",
    "    \"\"\"Save text content to a .txt file.\"\"\"\n",
    "    filename = \"xz_backdoor_research.txt\"\n",
    "    with open(filename, \"w\", encoding=\"utf-8\") as f:\n",
    "        f.write(text)\n",
    "    return f\"Saved research to {filename}\"\n",
    "\n",
    "tools = [search_wikipedia, search_duckduckgo, scrape_website, save_to_file]\n",
    "\n",
    "llm = ChatOpenAI(model=\"gpt-4o-mini-2024-07-18\", temperature=0.3) \n",
    "\n",
    "prompt = ChatPromptTemplate.from_messages([\n",
    "    (\"system\", \"You are a research assistant who uses tools to gather information, extract website content, and save it to a file.\"),\n",
    "    (\"human\", \"{input}\"),\n",
    "    (\"placeholder\", \"{agent_scratchpad}\")\n",
    "])\n",
    "\n",
    "agent = create_tool_calling_agent(llm=llm, tools=tools, prompt=prompt)\n",
    "agent_executor = AgentExecutor(agent=agent, tools=tools, verbose=True)\n"
   ]
  },
  {
   "cell_type": "code",
   "execution_count": 7,
   "metadata": {},
   "outputs": [
    {
     "name": "stdout",
     "output_type": "stream",
     "text": [
      "\n",
      "\n",
      "\u001b[1m> Entering new AgentExecutor chain...\u001b[0m\n",
      "\u001b[32;1m\u001b[1;3m\n",
      "Invoking: `search_wikipedia` with `{'query': 'XZ backdoor'}`\n",
      "\n",
      "\n",
      "\u001b[0m\u001b[36;1m\u001b[1;3mIn February 2024, a malicious backdoor was introduced to the Linux build of the xz utility within the liblzma library in versions 5.6.0 and 5.6.1 by an account using the name \"Jia Tan\". The backdoor gives an attacker who possesses a specific Ed448 private key remote code execution through OpenSSH on the affected Linux system. The issue has been given the Common Vulnerabilities and Exposures number CVE-2024-3094 and has been assigned a CVSS score of 10.0, the highest possible score.\n",
      "While xz is commonly present in most Linux distributions, at the time of discovery the backdoored version had not yet been widely deployed to production systems, but was present in development versions of major distributions. The backdoor was discovered by the software developer Andres Freund, who announced his findings on 29 March 2024.\u001b[0m\u001b[32;1m\u001b[1;3m\n",
      "Invoking: `save_to_file` with `{'text': 'XZ Backdoor Research:\\n\\nIn February 2024, a malicious backdoor was introduced to the Linux build of the xz utility within the liblzma library in versions 5.6.0 and 5.6.1 by an account using the name \"Jia Tan\". The backdoor gives an attacker who possesses a specific Ed448 private key remote code execution through OpenSSH on the affected Linux system. The issue has been given the Common Vulnerabilities and Exposures number CVE-2024-3094 and has been assigned a CVSS score of 10.0, the highest possible score.\\n\\nWhile xz is commonly present in most Linux distributions, at the time of discovery the backdoored version had not yet been widely deployed to production systems, but was present in development versions of major distributions. The backdoor was discovered by the software developer Andres Freund, who announced his findings on 29 March 2024.'}`\n",
      "\n",
      "\n",
      "\u001b[0m\u001b[36;1m\u001b[1;3mSaved research to xz_backdoor_research.txt\u001b[0m\u001b[32;1m\u001b[1;3mI have researched the XZ backdoor and saved the information to a file named `xz_backdoor_research.txt`. If you need any further information or assistance, feel free to ask!\u001b[0m\n",
      "\n",
      "\u001b[1m> Finished chain.\u001b[0m\n"
     ]
    },
    {
     "data": {
      "text/plain": [
       "{'input': 'Research about the XZ backdoor',\n",
       " 'output': 'I have researched the XZ backdoor and saved the information to a file named `xz_backdoor_research.txt`. If you need any further information or assistance, feel free to ask!'}"
      ]
     },
     "execution_count": 7,
     "metadata": {},
     "output_type": "execute_result"
    }
   ],
   "source": [
    "\n",
    "query = \"Research about the XZ backdoor\"\n",
    "agent_executor.invoke({\"input\": query})"
   ]
  }
 ],
 "metadata": {
  "kernelspec": {
   "display_name": ".venv",
   "language": "python",
   "name": "python3"
  },
  "language_info": {
   "codemirror_mode": {
    "name": "ipython",
    "version": 3
   },
   "file_extension": ".py",
   "mimetype": "text/x-python",
   "name": "python",
   "nbconvert_exporter": "python",
   "pygments_lexer": "ipython3",
   "version": "3.13.1"
  }
 },
 "nbformat": 4,
 "nbformat_minor": 2
}
